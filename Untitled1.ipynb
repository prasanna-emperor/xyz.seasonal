{
 "cells": [
  {
   "cell_type": "code",
   "execution_count": 84,
   "id": "197f1c7f-70ae-4685-ae32-c7e33518fc60",
   "metadata": {},
   "outputs": [],
   "source": [
    "import pandas as pd"
   ]
  },
  {
   "cell_type": "code",
   "execution_count": 85,
   "id": "be081206-d7f4-4a87-8a22-96a09f923cc0",
   "metadata": {},
   "outputs": [],
   "source": [
    "tsf=pd.read_csv('training_set_features.csv')"
   ]
  },
  {
   "cell_type": "code",
   "execution_count": 86,
   "id": "5eff227e-c7c8-4f2c-b565-55cc3cbfff1a",
   "metadata": {},
   "outputs": [],
   "source": [
    "tsl=pd.read_csv('training_set_labels.csv')"
   ]
  },
  {
   "cell_type": "code",
   "execution_count": 87,
   "id": "760f1bf1-873b-4e4e-a4f4-6a20ab05e264",
   "metadata": {},
   "outputs": [],
   "source": [
    "tsf['xyz_vaccine']=tsl['xyz_vaccine']"
   ]
  },
  {
   "cell_type": "code",
   "execution_count": 88,
   "id": "5b5cd3d4-c2a4-40fd-8b9f-a4d86d1125d0",
   "metadata": {},
   "outputs": [],
   "source": [
    "tsf['seasonal_vaccine']=tsl['seasonal_vaccine']"
   ]
  },
  {
   "cell_type": "code",
   "execution_count": 89,
   "id": "f1ce5ba1-bff3-4a9b-bcac-798eee6a15b6",
   "metadata": {},
   "outputs": [],
   "source": [
    "tsfc=tsf.dropna()"
   ]
  },
  {
   "cell_type": "code",
   "execution_count": 90,
   "id": "990a327f-911d-41b4-b215-b14a763ea71e",
   "metadata": {},
   "outputs": [],
   "source": [
    "a=tsfc.columns"
   ]
  },
  {
   "cell_type": "code",
   "execution_count": 91,
   "id": "f9220da8-c3ed-4282-abff-c9197ff242fd",
   "metadata": {},
   "outputs": [],
   "source": [
    "xv1=tsfc.loc[tsfc['xyz_vaccine']==1]"
   ]
  },
  {
   "cell_type": "code",
   "execution_count": 92,
   "id": "a4430c1a-a821-4ccb-8220-57f58176e5b4",
   "metadata": {},
   "outputs": [
    {
     "data": {
      "text/html": [
       "<div>\n",
       "<style scoped>\n",
       "    .dataframe tbody tr th:only-of-type {\n",
       "        vertical-align: middle;\n",
       "    }\n",
       "\n",
       "    .dataframe tbody tr th {\n",
       "        vertical-align: top;\n",
       "    }\n",
       "\n",
       "    .dataframe thead th {\n",
       "        text-align: right;\n",
       "    }\n",
       "</style>\n",
       "<table border=\"1\" class=\"dataframe\">\n",
       "  <thead>\n",
       "    <tr style=\"text-align: right;\">\n",
       "      <th></th>\n",
       "      <th>respondent_id</th>\n",
       "      <th>xyz_concern</th>\n",
       "      <th>xyz_knowledge</th>\n",
       "      <th>behavioral_antiviral_meds</th>\n",
       "      <th>behavioral_avoidance</th>\n",
       "      <th>behavioral_face_mask</th>\n",
       "      <th>behavioral_wash_hands</th>\n",
       "      <th>behavioral_large_gatherings</th>\n",
       "      <th>behavioral_outside_home</th>\n",
       "      <th>behavioral_touch_face</th>\n",
       "      <th>...</th>\n",
       "      <th>rent_or_own</th>\n",
       "      <th>employment_status</th>\n",
       "      <th>hhs_geo_region</th>\n",
       "      <th>census_msa</th>\n",
       "      <th>household_adults</th>\n",
       "      <th>household_children</th>\n",
       "      <th>employment_industry</th>\n",
       "      <th>employment_occupation</th>\n",
       "      <th>xyz_vaccine</th>\n",
       "      <th>seasonal_vaccine</th>\n",
       "    </tr>\n",
       "  </thead>\n",
       "  <tbody>\n",
       "    <tr>\n",
       "      <th>7</th>\n",
       "      <td>7</td>\n",
       "      <td>1.0</td>\n",
       "      <td>0.0</td>\n",
       "      <td>0.0</td>\n",
       "      <td>1.0</td>\n",
       "      <td>0.0</td>\n",
       "      <td>1.0</td>\n",
       "      <td>0.0</td>\n",
       "      <td>0.0</td>\n",
       "      <td>1.0</td>\n",
       "      <td>...</td>\n",
       "      <td>Own</td>\n",
       "      <td>Employed</td>\n",
       "      <td>bhuqouqj</td>\n",
       "      <td>Non-MSA</td>\n",
       "      <td>2.0</td>\n",
       "      <td>0.0</td>\n",
       "      <td>pxcmvdjn</td>\n",
       "      <td>xqwwgdyp</td>\n",
       "      <td>1</td>\n",
       "      <td>1</td>\n",
       "    </tr>\n",
       "    <tr>\n",
       "      <th>10</th>\n",
       "      <td>10</td>\n",
       "      <td>2.0</td>\n",
       "      <td>1.0</td>\n",
       "      <td>0.0</td>\n",
       "      <td>1.0</td>\n",
       "      <td>0.0</td>\n",
       "      <td>1.0</td>\n",
       "      <td>1.0</td>\n",
       "      <td>0.0</td>\n",
       "      <td>0.0</td>\n",
       "      <td>...</td>\n",
       "      <td>Rent</td>\n",
       "      <td>Employed</td>\n",
       "      <td>lzgpxyit</td>\n",
       "      <td>MSA, Not Principle  City</td>\n",
       "      <td>2.0</td>\n",
       "      <td>0.0</td>\n",
       "      <td>xicduogh</td>\n",
       "      <td>qxajmpny</td>\n",
       "      <td>1</td>\n",
       "      <td>1</td>\n",
       "    </tr>\n",
       "    <tr>\n",
       "      <th>11</th>\n",
       "      <td>11</td>\n",
       "      <td>1.0</td>\n",
       "      <td>2.0</td>\n",
       "      <td>0.0</td>\n",
       "      <td>1.0</td>\n",
       "      <td>0.0</td>\n",
       "      <td>1.0</td>\n",
       "      <td>0.0</td>\n",
       "      <td>0.0</td>\n",
       "      <td>0.0</td>\n",
       "      <td>...</td>\n",
       "      <td>Own</td>\n",
       "      <td>Employed</td>\n",
       "      <td>oxchjgsf</td>\n",
       "      <td>Non-MSA</td>\n",
       "      <td>1.0</td>\n",
       "      <td>2.0</td>\n",
       "      <td>xicduogh</td>\n",
       "      <td>ccgxvspp</td>\n",
       "      <td>1</td>\n",
       "      <td>1</td>\n",
       "    </tr>\n",
       "    <tr>\n",
       "      <th>34</th>\n",
       "      <td>34</td>\n",
       "      <td>1.0</td>\n",
       "      <td>1.0</td>\n",
       "      <td>0.0</td>\n",
       "      <td>1.0</td>\n",
       "      <td>0.0</td>\n",
       "      <td>0.0</td>\n",
       "      <td>0.0</td>\n",
       "      <td>0.0</td>\n",
       "      <td>0.0</td>\n",
       "      <td>...</td>\n",
       "      <td>Own</td>\n",
       "      <td>Employed</td>\n",
       "      <td>mlyzmhmf</td>\n",
       "      <td>MSA, Not Principle  City</td>\n",
       "      <td>1.0</td>\n",
       "      <td>2.0</td>\n",
       "      <td>wxleyezf</td>\n",
       "      <td>bxpfxfdn</td>\n",
       "      <td>1</td>\n",
       "      <td>1</td>\n",
       "    </tr>\n",
       "    <tr>\n",
       "      <th>41</th>\n",
       "      <td>41</td>\n",
       "      <td>2.0</td>\n",
       "      <td>1.0</td>\n",
       "      <td>0.0</td>\n",
       "      <td>1.0</td>\n",
       "      <td>0.0</td>\n",
       "      <td>1.0</td>\n",
       "      <td>0.0</td>\n",
       "      <td>1.0</td>\n",
       "      <td>1.0</td>\n",
       "      <td>...</td>\n",
       "      <td>Own</td>\n",
       "      <td>Employed</td>\n",
       "      <td>qufhixun</td>\n",
       "      <td>MSA, Not Principle  City</td>\n",
       "      <td>1.0</td>\n",
       "      <td>0.0</td>\n",
       "      <td>fcxhlnwr</td>\n",
       "      <td>cmhcxjea</td>\n",
       "      <td>1</td>\n",
       "      <td>1</td>\n",
       "    </tr>\n",
       "  </tbody>\n",
       "</table>\n",
       "<p>5 rows × 38 columns</p>\n",
       "</div>"
      ],
      "text/plain": [
       "    respondent_id  xyz_concern  xyz_knowledge  behavioral_antiviral_meds  \\\n",
       "7               7          1.0            0.0                        0.0   \n",
       "10             10          2.0            1.0                        0.0   \n",
       "11             11          1.0            2.0                        0.0   \n",
       "34             34          1.0            1.0                        0.0   \n",
       "41             41          2.0            1.0                        0.0   \n",
       "\n",
       "    behavioral_avoidance  behavioral_face_mask  behavioral_wash_hands  \\\n",
       "7                    1.0                   0.0                    1.0   \n",
       "10                   1.0                   0.0                    1.0   \n",
       "11                   1.0                   0.0                    1.0   \n",
       "34                   1.0                   0.0                    0.0   \n",
       "41                   1.0                   0.0                    1.0   \n",
       "\n",
       "    behavioral_large_gatherings  behavioral_outside_home  \\\n",
       "7                           0.0                      0.0   \n",
       "10                          1.0                      0.0   \n",
       "11                          0.0                      0.0   \n",
       "34                          0.0                      0.0   \n",
       "41                          0.0                      1.0   \n",
       "\n",
       "    behavioral_touch_face  ...  rent_or_own  employment_status  \\\n",
       "7                     1.0  ...          Own           Employed   \n",
       "10                    0.0  ...         Rent           Employed   \n",
       "11                    0.0  ...          Own           Employed   \n",
       "34                    0.0  ...          Own           Employed   \n",
       "41                    1.0  ...          Own           Employed   \n",
       "\n",
       "    hhs_geo_region                census_msa  household_adults  \\\n",
       "7         bhuqouqj                   Non-MSA               2.0   \n",
       "10        lzgpxyit  MSA, Not Principle  City               2.0   \n",
       "11        oxchjgsf                   Non-MSA               1.0   \n",
       "34        mlyzmhmf  MSA, Not Principle  City               1.0   \n",
       "41        qufhixun  MSA, Not Principle  City               1.0   \n",
       "\n",
       "    household_children  employment_industry  employment_occupation  \\\n",
       "7                  0.0             pxcmvdjn               xqwwgdyp   \n",
       "10                 0.0             xicduogh               qxajmpny   \n",
       "11                 2.0             xicduogh               ccgxvspp   \n",
       "34                 2.0             wxleyezf               bxpfxfdn   \n",
       "41                 0.0             fcxhlnwr               cmhcxjea   \n",
       "\n",
       "    xyz_vaccine  seasonal_vaccine  \n",
       "7             1                 1  \n",
       "10            1                 1  \n",
       "11            1                 1  \n",
       "34            1                 1  \n",
       "41            1                 1  \n",
       "\n",
       "[5 rows x 38 columns]"
      ]
     },
     "execution_count": 92,
     "metadata": {},
     "output_type": "execute_result"
    }
   ],
   "source": [
    "xv1.head()"
   ]
  },
  {
   "cell_type": "code",
   "execution_count": 93,
   "id": "63cc2e14-ac76-4d38-bdce-c7525d51f76e",
   "metadata": {},
   "outputs": [],
   "source": [
    "b,k,l,m=xv1['seasonal_vaccine'].value_counts(),xv1['xyz_vaccine'].value_counts(),tsfc['xyz_vaccine'].value_counts(),tsfc['seasonal_vaccine'].value_counts()"
   ]
  },
  {
   "cell_type": "code",
   "execution_count": 94,
   "id": "0e55a54f-c661-4ce6-8139-944cf8cadf47",
   "metadata": {},
   "outputs": [],
   "source": [
    "se=b.sum()\n",
    "n=k.sum()\n",
    "o=l.sum()+m.sum()\n",
    "p=n/o\n",
    "sea=se/o"
   ]
  },
  {
   "cell_type": "code",
   "execution_count": 95,
   "id": "4853239f-2a8e-4598-b88a-7e7a76aca50c",
   "metadata": {},
   "outputs": [],
   "source": [
    "li=[]\n",
    "for i in range(1,38):\n",
    "    a=xv1[xv1.columns[i]].value_counts()\n",
    "    li.append(a)"
   ]
  },
  {
   "cell_type": "code",
   "execution_count": 96,
   "id": "e5bef6ad-ff5f-4a96-8464-3fe255034614",
   "metadata": {},
   "outputs": [],
   "source": [
    "for i in range(37):\n",
    "    li[i]=li[i].sort_index()"
   ]
  },
  {
   "cell_type": "code",
   "execution_count": 97,
   "id": "15410429-3452-40aa-8f64-9942d397a7b8",
   "metadata": {},
   "outputs": [],
   "source": [
    "prop=[]\n",
    "for i in range(37):\n",
    "    l=[]\n",
    "    for j in li[i]:\n",
    "        a=j/(li[i].sum())\n",
    "        l.append(a)\n",
    "    prop.append(l)"
   ]
  },
  {
   "cell_type": "code",
   "execution_count": 98,
   "id": "6edf789e-1fae-4400-84e9-7f9d88f3b468",
   "metadata": {},
   "outputs": [],
   "source": [
    "list=[]\n",
    "for i in range(37):\n",
    "    di={}\n",
    "    v=li[i].index\n",
    "    u=prop[i]\n",
    "    for j in range(len(v)):\n",
    "        di[v[j]]=u[j]\n",
    "    list.append(di)"
   ]
  },
  {
   "cell_type": "code",
   "execution_count": 16,
   "id": "be8d9faf-a883-455d-be5c-4153e72ffb65",
   "metadata": {},
   "outputs": [
    {
     "data": {
      "text/plain": [
       "opinion_xyz_sick_from_vacc\n",
       "1.0    650\n",
       "2.0    581\n",
       "4.0    535\n",
       "5.0    169\n",
       "Name: count, dtype: int64"
      ]
     },
     "execution_count": 16,
     "metadata": {},
     "output_type": "execute_result"
    }
   ],
   "source": [
    "li[17]"
   ]
  },
  {
   "cell_type": "code",
   "execution_count": 99,
   "id": "2c2db39d-4ad9-49e1-b3ac-11f1be845e29",
   "metadata": {},
   "outputs": [],
   "source": [
    "xv2=tsfc.loc[tsfc['seasonal_vaccine']==1]\n",
    "mi=[]\n",
    "for i in range(1,38):\n",
    "    a=xv2[xv2.columns[i]].value_counts()\n",
    "    mi.append(a)\n"
   ]
  },
  {
   "cell_type": "code",
   "execution_count": 100,
   "id": "987aa9c5-12f8-41f9-adf8-366d4a0727cd",
   "metadata": {},
   "outputs": [],
   "source": [
    "for i in range(37):\n",
    "    mi[i]=mi[i].sort_index()"
   ]
  },
  {
   "cell_type": "code",
   "execution_count": 101,
   "id": "6daf5bbe-5edb-4f31-b60e-3c6d5d773f87",
   "metadata": {},
   "outputs": [],
   "source": [
    "prop1=[]\n",
    "for i in range(37):\n",
    "    l=[]\n",
    "    for j in mi[i]:\n",
    "        a=j/(mi[i].sum())\n",
    "        l.append(a)\n",
    "    prop1.append(l)"
   ]
  },
  {
   "cell_type": "code",
   "execution_count": 102,
   "id": "a5575128-92be-4b56-89b8-17927fff4985",
   "metadata": {},
   "outputs": [],
   "source": [
    "mist=[]\n",
    "for i in range(37):\n",
    "    di={}\n",
    "    v=mi[i].index\n",
    "    u=prop1[i]\n",
    "    for j in range(len(v)):\n",
    "        di[v[j]]=u[j]\n",
    "    mist.append(di)"
   ]
  },
  {
   "cell_type": "code",
   "execution_count": 119,
   "id": "4f31d52b-e6c0-4c50-99ad-a741546936a5",
   "metadata": {},
   "outputs": [],
   "source": [
    "test_data=pd.read_csv('test_set_features.csv')"
   ]
  },
  {
   "cell_type": "code",
   "execution_count": 146,
   "id": "839e6346-1955-4804-bbde-9c827d655c66",
   "metadata": {},
   "outputs": [],
   "source": [
    "td=test_data"
   ]
  },
  {
   "cell_type": "code",
   "execution_count": 120,
   "id": "798c2146-3373-42fb-9ad0-29fd2d878538",
   "metadata": {},
   "outputs": [
    {
     "data": {
      "text/plain": [
       "(26708, 36)"
      ]
     },
     "execution_count": 120,
     "metadata": {},
     "output_type": "execute_result"
    }
   ],
   "source": [
    "test_data.shape"
   ]
  },
  {
   "cell_type": "code",
   "execution_count": 121,
   "id": "cdb88673-7885-4590-947f-9b8675237c55",
   "metadata": {},
   "outputs": [],
   "source": [
    "test_data=test_data.dropna()"
   ]
  },
  {
   "cell_type": "code",
   "execution_count": 122,
   "id": "6d8bedc9-b86d-4618-ad34-b135d3d63c80",
   "metadata": {},
   "outputs": [
    {
     "data": {
      "text/plain": [
       "(6499, 36)"
      ]
     },
     "execution_count": 122,
     "metadata": {},
     "output_type": "execute_result"
    }
   ],
   "source": [
    "test_data.shape"
   ]
  },
  {
   "cell_type": "code",
   "execution_count": 123,
   "id": "276e39c7-6a6f-4ae0-bfc1-ab9fb05e37f2",
   "metadata": {},
   "outputs": [
    {
     "data": {
      "text/html": [
       "<div>\n",
       "<style scoped>\n",
       "    .dataframe tbody tr th:only-of-type {\n",
       "        vertical-align: middle;\n",
       "    }\n",
       "\n",
       "    .dataframe tbody tr th {\n",
       "        vertical-align: top;\n",
       "    }\n",
       "\n",
       "    .dataframe thead th {\n",
       "        text-align: right;\n",
       "    }\n",
       "</style>\n",
       "<table border=\"1\" class=\"dataframe\">\n",
       "  <thead>\n",
       "    <tr style=\"text-align: right;\">\n",
       "      <th></th>\n",
       "      <th>respondent_id</th>\n",
       "      <th>xyz_concern</th>\n",
       "      <th>xyz_knowledge</th>\n",
       "      <th>behavioral_antiviral_meds</th>\n",
       "      <th>behavioral_avoidance</th>\n",
       "      <th>behavioral_face_mask</th>\n",
       "      <th>behavioral_wash_hands</th>\n",
       "      <th>behavioral_large_gatherings</th>\n",
       "      <th>behavioral_outside_home</th>\n",
       "      <th>behavioral_touch_face</th>\n",
       "      <th>...</th>\n",
       "      <th>income_poverty</th>\n",
       "      <th>marital_status</th>\n",
       "      <th>rent_or_own</th>\n",
       "      <th>employment_status</th>\n",
       "      <th>hhs_geo_region</th>\n",
       "      <th>census_msa</th>\n",
       "      <th>household_adults</th>\n",
       "      <th>household_children</th>\n",
       "      <th>employment_industry</th>\n",
       "      <th>employment_occupation</th>\n",
       "    </tr>\n",
       "  </thead>\n",
       "  <tbody>\n",
       "    <tr>\n",
       "      <th>0</th>\n",
       "      <td>26707</td>\n",
       "      <td>2.0</td>\n",
       "      <td>2.0</td>\n",
       "      <td>0.0</td>\n",
       "      <td>1.0</td>\n",
       "      <td>0.0</td>\n",
       "      <td>1.0</td>\n",
       "      <td>1.0</td>\n",
       "      <td>0.0</td>\n",
       "      <td>1.0</td>\n",
       "      <td>...</td>\n",
       "      <td>&gt; $75,000</td>\n",
       "      <td>Not Married</td>\n",
       "      <td>Rent</td>\n",
       "      <td>Employed</td>\n",
       "      <td>mlyzmhmf</td>\n",
       "      <td>MSA, Not Principle  City</td>\n",
       "      <td>1.0</td>\n",
       "      <td>0.0</td>\n",
       "      <td>atmlpfrs</td>\n",
       "      <td>hfxkjkmi</td>\n",
       "    </tr>\n",
       "    <tr>\n",
       "      <th>1</th>\n",
       "      <td>26708</td>\n",
       "      <td>1.0</td>\n",
       "      <td>1.0</td>\n",
       "      <td>0.0</td>\n",
       "      <td>0.0</td>\n",
       "      <td>0.0</td>\n",
       "      <td>0.0</td>\n",
       "      <td>0.0</td>\n",
       "      <td>0.0</td>\n",
       "      <td>0.0</td>\n",
       "      <td>...</td>\n",
       "      <td>Below Poverty</td>\n",
       "      <td>Not Married</td>\n",
       "      <td>Rent</td>\n",
       "      <td>Employed</td>\n",
       "      <td>bhuqouqj</td>\n",
       "      <td>Non-MSA</td>\n",
       "      <td>3.0</td>\n",
       "      <td>0.0</td>\n",
       "      <td>atmlpfrs</td>\n",
       "      <td>xqwwgdyp</td>\n",
       "    </tr>\n",
       "    <tr>\n",
       "      <th>4</th>\n",
       "      <td>26711</td>\n",
       "      <td>3.0</td>\n",
       "      <td>1.0</td>\n",
       "      <td>1.0</td>\n",
       "      <td>1.0</td>\n",
       "      <td>0.0</td>\n",
       "      <td>1.0</td>\n",
       "      <td>1.0</td>\n",
       "      <td>1.0</td>\n",
       "      <td>1.0</td>\n",
       "      <td>...</td>\n",
       "      <td>&lt;= $75,000, Above Poverty</td>\n",
       "      <td>Not Married</td>\n",
       "      <td>Own</td>\n",
       "      <td>Employed</td>\n",
       "      <td>lzgpxyit</td>\n",
       "      <td>Non-MSA</td>\n",
       "      <td>0.0</td>\n",
       "      <td>1.0</td>\n",
       "      <td>fcxhlnwr</td>\n",
       "      <td>mxkfnird</td>\n",
       "    </tr>\n",
       "    <tr>\n",
       "      <th>5</th>\n",
       "      <td>26712</td>\n",
       "      <td>2.0</td>\n",
       "      <td>2.0</td>\n",
       "      <td>0.0</td>\n",
       "      <td>1.0</td>\n",
       "      <td>0.0</td>\n",
       "      <td>1.0</td>\n",
       "      <td>1.0</td>\n",
       "      <td>0.0</td>\n",
       "      <td>1.0</td>\n",
       "      <td>...</td>\n",
       "      <td>&gt; $75,000</td>\n",
       "      <td>Not Married</td>\n",
       "      <td>Own</td>\n",
       "      <td>Employed</td>\n",
       "      <td>mlyzmhmf</td>\n",
       "      <td>MSA, Principle City</td>\n",
       "      <td>0.0</td>\n",
       "      <td>2.0</td>\n",
       "      <td>fcxhlnwr</td>\n",
       "      <td>cmhcxjea</td>\n",
       "    </tr>\n",
       "    <tr>\n",
       "      <th>11</th>\n",
       "      <td>26718</td>\n",
       "      <td>1.0</td>\n",
       "      <td>2.0</td>\n",
       "      <td>0.0</td>\n",
       "      <td>1.0</td>\n",
       "      <td>0.0</td>\n",
       "      <td>1.0</td>\n",
       "      <td>0.0</td>\n",
       "      <td>0.0</td>\n",
       "      <td>0.0</td>\n",
       "      <td>...</td>\n",
       "      <td>&gt; $75,000</td>\n",
       "      <td>Not Married</td>\n",
       "      <td>Own</td>\n",
       "      <td>Employed</td>\n",
       "      <td>fpwskwrf</td>\n",
       "      <td>MSA, Principle City</td>\n",
       "      <td>0.0</td>\n",
       "      <td>0.0</td>\n",
       "      <td>arjwrbjb</td>\n",
       "      <td>hfxkjkmi</td>\n",
       "    </tr>\n",
       "  </tbody>\n",
       "</table>\n",
       "<p>5 rows × 36 columns</p>\n",
       "</div>"
      ],
      "text/plain": [
       "    respondent_id  xyz_concern  xyz_knowledge  behavioral_antiviral_meds  \\\n",
       "0           26707          2.0            2.0                        0.0   \n",
       "1           26708          1.0            1.0                        0.0   \n",
       "4           26711          3.0            1.0                        1.0   \n",
       "5           26712          2.0            2.0                        0.0   \n",
       "11          26718          1.0            2.0                        0.0   \n",
       "\n",
       "    behavioral_avoidance  behavioral_face_mask  behavioral_wash_hands  \\\n",
       "0                    1.0                   0.0                    1.0   \n",
       "1                    0.0                   0.0                    0.0   \n",
       "4                    1.0                   0.0                    1.0   \n",
       "5                    1.0                   0.0                    1.0   \n",
       "11                   1.0                   0.0                    1.0   \n",
       "\n",
       "    behavioral_large_gatherings  behavioral_outside_home  \\\n",
       "0                           1.0                      0.0   \n",
       "1                           0.0                      0.0   \n",
       "4                           1.0                      1.0   \n",
       "5                           1.0                      0.0   \n",
       "11                          0.0                      0.0   \n",
       "\n",
       "    behavioral_touch_face  ...             income_poverty  marital_status  \\\n",
       "0                     1.0  ...                  > $75,000     Not Married   \n",
       "1                     0.0  ...              Below Poverty     Not Married   \n",
       "4                     1.0  ...  <= $75,000, Above Poverty     Not Married   \n",
       "5                     1.0  ...                  > $75,000     Not Married   \n",
       "11                    0.0  ...                  > $75,000     Not Married   \n",
       "\n",
       "    rent_or_own  employment_status  hhs_geo_region                census_msa  \\\n",
       "0          Rent           Employed        mlyzmhmf  MSA, Not Principle  City   \n",
       "1          Rent           Employed        bhuqouqj                   Non-MSA   \n",
       "4           Own           Employed        lzgpxyit                   Non-MSA   \n",
       "5           Own           Employed        mlyzmhmf       MSA, Principle City   \n",
       "11          Own           Employed        fpwskwrf       MSA, Principle City   \n",
       "\n",
       "    household_adults  household_children  employment_industry  \\\n",
       "0                1.0                 0.0             atmlpfrs   \n",
       "1                3.0                 0.0             atmlpfrs   \n",
       "4                0.0                 1.0             fcxhlnwr   \n",
       "5                0.0                 2.0             fcxhlnwr   \n",
       "11               0.0                 0.0             arjwrbjb   \n",
       "\n",
       "    employment_occupation  \n",
       "0                hfxkjkmi  \n",
       "1                xqwwgdyp  \n",
       "4                mxkfnird  \n",
       "5                cmhcxjea  \n",
       "11               hfxkjkmi  \n",
       "\n",
       "[5 rows x 36 columns]"
      ]
     },
     "execution_count": 123,
     "metadata": {},
     "output_type": "execute_result"
    }
   ],
   "source": [
    "test_data.head()"
   ]
  },
  {
   "cell_type": "code",
   "execution_count": 124,
   "id": "20fe6568-0806-4bd1-88d1-81de7a44c83b",
   "metadata": {},
   "outputs": [],
   "source": [
    "nm=test_data['respondent_id']"
   ]
  },
  {
   "cell_type": "code",
   "execution_count": 125,
   "id": "d7affbd4-04bd-4a5a-bc3f-3c794b9d8c9d",
   "metadata": {},
   "outputs": [],
   "source": [
    "test_data=test_data.drop('respondent_id',axis=1)"
   ]
  },
  {
   "cell_type": "code",
   "execution_count": 126,
   "id": "c0f7a968-d6ab-44b5-b225-a9d9057152d8",
   "metadata": {},
   "outputs": [],
   "source": [
    "tdc=test_data.columns"
   ]
  },
  {
   "cell_type": "code",
   "execution_count": 142,
   "id": "01d71f7c-a8ab-49c8-8c46-20972ca4e544",
   "metadata": {},
   "outputs": [],
   "source": [
    "k=[]\n",
    "for i in range(6499):\n",
    "    d={}\n",
    "    u=test_data.iloc[i]\n",
    "    for j in range(len(u)):\n",
    "        d[tdc[j]]=u.iloc[j]\n",
    "    k.append(d)"
   ]
  },
  {
   "cell_type": "code",
   "execution_count": 143,
   "id": "227995fc-eded-4429-9d61-4ed663fc8e83",
   "metadata": {},
   "outputs": [
    {
     "data": {
      "text/plain": [
       "6499"
      ]
     },
     "execution_count": 143,
     "metadata": {},
     "output_type": "execute_result"
    }
   ],
   "source": [
    "len(k)"
   ]
  },
  {
   "cell_type": "code",
   "execution_count": 145,
   "id": "3fc6fb1e-d3d0-4f4b-b49d-dfa51f823284",
   "metadata": {},
   "outputs": [],
   "source": [
    "for i in range(6481):\n",
    "    if k[i][tdc[17]]==3:\n",
    "        k.remove(k[i])\n",
    "    elif k[i][tdc[20]]==3:\n",
    "        k.remove(k[i])\n",
    "    \n",
    "    "
   ]
  },
  {
   "cell_type": "code",
   "execution_count": 130,
   "id": "79426f36-561c-4b7d-9774-11afafd7ff3f",
   "metadata": {},
   "outputs": [],
   "source": [
    "g=[]\n",
    "for i in range(len(k)):\n",
    "    h=[]\n",
    "    for j in range(35):\n",
    "        h.append(list[j][k[i][tdc[j]]])\n",
    "    g.append(h)\n",
    "        "
   ]
  },
  {
   "cell_type": "code",
   "execution_count": 131,
   "id": "db210322-bb7b-4196-a3cf-6f9d615cd97a",
   "metadata": {},
   "outputs": [
    {
     "data": {
      "text/plain": [
       "6481"
      ]
     },
     "execution_count": 131,
     "metadata": {},
     "output_type": "execute_result"
    }
   ],
   "source": [
    "len(g)"
   ]
  },
  {
   "cell_type": "code",
   "execution_count": 132,
   "id": "534580aa-78fe-479d-85ed-88ddd7d6bd3d",
   "metadata": {},
   "outputs": [],
   "source": [
    "w=[]\n",
    "for i in range(len(g)):\n",
    "    a=p\n",
    "    z=g[i]\n",
    "    for j in range(35):\n",
    "        a*=z[j]\n",
    "    w.append(a)"
   ]
  },
  {
   "cell_type": "code",
   "execution_count": 133,
   "id": "ccd8f7f7-115a-4ef4-b641-9af1b711eaba",
   "metadata": {},
   "outputs": [],
   "source": [
    "e=[]\n",
    "for i in range(len(k)):\n",
    "    r=[]\n",
    "    for j in range(35):\n",
    "        r.append(mist[j][k[i][tdc[j]]])\n",
    "    e.append(r)"
   ]
  },
  {
   "cell_type": "code",
   "execution_count": 134,
   "id": "33d0e44f-9050-473e-bb0b-e746d509aaa4",
   "metadata": {},
   "outputs": [],
   "source": [
    "t=[]\n",
    "for i in range(len(e)):\n",
    "    a=sea\n",
    "    z=e[i]\n",
    "    for j in range(35):\n",
    "        a*=z[j]\n",
    "    t.append(a)"
   ]
  },
  {
   "cell_type": "code",
   "execution_count": 148,
   "id": "98775b0d-e6cd-41b2-9e5e-79708b32942b",
   "metadata": {},
   "outputs": [
    {
     "data": {
      "text/plain": [
       "0        1.0\n",
       "1        1.0\n",
       "4        4.0\n",
       "5        1.0\n",
       "11       1.0\n",
       "        ... \n",
       "26698    1.0\n",
       "26700    2.0\n",
       "26701    2.0\n",
       "26702    2.0\n",
       "26704    1.0\n",
       "Name: opinion_xyz_sick_from_vacc, Length: 6499, dtype: float64"
      ]
     },
     "execution_count": 148,
     "metadata": {},
     "output_type": "execute_result"
    }
   ],
   "source": [
    "td[tdc[17]]\n",
    "    "
   ]
  },
  {
   "cell_type": "code",
   "execution_count": 140,
   "id": "219a3bc6-d5f0-44eb-98a3-9dc259a0e3c1",
   "metadata": {},
   "outputs": [
    {
     "data": {
      "text/plain": [
       "6499"
      ]
     },
     "execution_count": 140,
     "metadata": {},
     "output_type": "execute_result"
    }
   ],
   "source": []
  },
  {
   "cell_type": "code",
   "execution_count": 150,
   "id": "012e94af-3a01-423e-8a30-aeea22579ad3",
   "metadata": {},
   "outputs": [
    {
     "data": {
      "text/html": [
       "<div>\n",
       "<style scoped>\n",
       "    .dataframe tbody tr th:only-of-type {\n",
       "        vertical-align: middle;\n",
       "    }\n",
       "\n",
       "    .dataframe tbody tr th {\n",
       "        vertical-align: top;\n",
       "    }\n",
       "\n",
       "    .dataframe thead th {\n",
       "        text-align: right;\n",
       "    }\n",
       "</style>\n",
       "<table border=\"1\" class=\"dataframe\">\n",
       "  <thead>\n",
       "    <tr style=\"text-align: right;\">\n",
       "      <th></th>\n",
       "      <th>xyz_vaccine</th>\n",
       "      <th>seasonal_vaccine</th>\n",
       "    </tr>\n",
       "  </thead>\n",
       "  <tbody>\n",
       "    <tr>\n",
       "      <th>0</th>\n",
       "      <td>4.451409e-16</td>\n",
       "      <td>1.070739e-15</td>\n",
       "    </tr>\n",
       "    <tr>\n",
       "      <th>1</th>\n",
       "      <td>1.962018e-21</td>\n",
       "      <td>1.194246e-20</td>\n",
       "    </tr>\n",
       "    <tr>\n",
       "      <th>2</th>\n",
       "      <td>7.244112e-18</td>\n",
       "      <td>7.786933e-18</td>\n",
       "    </tr>\n",
       "    <tr>\n",
       "      <th>3</th>\n",
       "      <td>2.916668e-13</td>\n",
       "      <td>1.492817e-13</td>\n",
       "    </tr>\n",
       "    <tr>\n",
       "      <th>4</th>\n",
       "      <td>1.394102e-13</td>\n",
       "      <td>2.272567e-13</td>\n",
       "    </tr>\n",
       "    <tr>\n",
       "      <th>...</th>\n",
       "      <td>...</td>\n",
       "      <td>...</td>\n",
       "    </tr>\n",
       "    <tr>\n",
       "      <th>6476</th>\n",
       "      <td>2.490366e-15</td>\n",
       "      <td>1.132267e-14</td>\n",
       "    </tr>\n",
       "    <tr>\n",
       "      <th>6477</th>\n",
       "      <td>1.868863e-20</td>\n",
       "      <td>1.619518e-19</td>\n",
       "    </tr>\n",
       "    <tr>\n",
       "      <th>6478</th>\n",
       "      <td>1.329002e-21</td>\n",
       "      <td>2.021287e-21</td>\n",
       "    </tr>\n",
       "    <tr>\n",
       "      <th>6479</th>\n",
       "      <td>3.274194e-18</td>\n",
       "      <td>7.141318e-18</td>\n",
       "    </tr>\n",
       "    <tr>\n",
       "      <th>6480</th>\n",
       "      <td>2.151173e-19</td>\n",
       "      <td>3.068757e-19</td>\n",
       "    </tr>\n",
       "  </tbody>\n",
       "</table>\n",
       "<p>6481 rows × 2 columns</p>\n",
       "</div>"
      ],
      "text/plain": [
       "       xyz_vaccine  seasonal_vaccine\n",
       "0     4.451409e-16      1.070739e-15\n",
       "1     1.962018e-21      1.194246e-20\n",
       "2     7.244112e-18      7.786933e-18\n",
       "3     2.916668e-13      1.492817e-13\n",
       "4     1.394102e-13      2.272567e-13\n",
       "...            ...               ...\n",
       "6476  2.490366e-15      1.132267e-14\n",
       "6477  1.868863e-20      1.619518e-19\n",
       "6478  1.329002e-21      2.021287e-21\n",
       "6479  3.274194e-18      7.141318e-18\n",
       "6480  2.151173e-19      3.068757e-19\n",
       "\n",
       "[6481 rows x 2 columns]"
      ]
     },
     "execution_count": 150,
     "metadata": {},
     "output_type": "execute_result"
    }
   ],
   "source": [
    "d={'xyz_vaccine':w,'seasonal_vaccine':t}\n",
    "m=pd.DataFrame(data=d)\n",
    "m"
   ]
  },
  {
   "cell_type": "code",
   "execution_count": 153,
   "id": "d92b0195-a677-4ae1-bbf2-3804554ce72f",
   "metadata": {},
   "outputs": [],
   "source": [
    "m.to_csv('sub.csv')"
   ]
  },
  {
   "cell_type": "code",
   "execution_count": null,
   "id": "618e58c1-1c17-4649-819b-60f0d5686944",
   "metadata": {},
   "outputs": [],
   "source": []
  }
 ],
 "metadata": {
  "kernelspec": {
   "display_name": "Python 3 (ipykernel)",
   "language": "python",
   "name": "python3"
  },
  "language_info": {
   "codemirror_mode": {
    "name": "ipython",
    "version": 3
   },
   "file_extension": ".py",
   "mimetype": "text/x-python",
   "name": "python",
   "nbconvert_exporter": "python",
   "pygments_lexer": "ipython3",
   "version": "3.11.7"
  }
 },
 "nbformat": 4,
 "nbformat_minor": 5
}
