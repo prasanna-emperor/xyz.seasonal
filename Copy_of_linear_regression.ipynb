{
  "nbformat": 4,
  "nbformat_minor": 0,
  "metadata": {
    "colab": {
      "provenance": [],
      "authorship_tag": "ABX9TyM9xjU8fNRX6AIn/G42vbI3",
      "include_colab_link": true
    },
    "kernelspec": {
      "name": "python3",
      "display_name": "Python 3"
    },
    "language_info": {
      "name": "python"
    }
  },
  "cells": [
    {
      "cell_type": "markdown",
      "metadata": {
        "id": "view-in-github",
        "colab_type": "text"
      },
      "source": [
        "<a href=\"https://colab.research.google.com/github/prasanna-emperor/xyz.seasonal/blob/main/Copy_of_linear_regression.ipynb\" target=\"_parent\"><img src=\"https://colab.research.google.com/assets/colab-badge.svg\" alt=\"Open In Colab\"/></a>"
      ]
    },
    {
      "cell_type": "code",
      "execution_count": null,
      "metadata": {
        "id": "xCqiabXkWSLx"
      },
      "outputs": [],
      "source": [
        "import numpy as np\n",
        "import torch"
      ]
    },
    {
      "cell_type": "code",
      "source": [
        "inputs = np.array([[73, 67, 43],\n",
        "                   [91, 88, 64],\n",
        "                   [87, 134, 58],\n",
        "                   [102, 43, 37],\n",
        "                   [69, 96, 70]], dtype='float32')\n",
        "# Targets (apples, oranges)\n",
        "targets = np.array([[56, 70],\n",
        "                    [81, 101],\n",
        "                    [119, 133],\n",
        "                    [22, 37],\n",
        "                    [103, 119]], dtype='float32')"
      ],
      "metadata": {
        "id": "JSs2iiVBf_Xb"
      },
      "execution_count": null,
      "outputs": []
    },
    {
      "cell_type": "code",
      "source": [
        "inputs = torch.from_numpy(inputs)\n",
        "targets = torch.from_numpy(targets)\n",
        "print(inputs)\n",
        "print(targets)"
      ],
      "metadata": {
        "colab": {
          "base_uri": "https://localhost:8080/"
        },
        "id": "XUwjiGgwga8L",
        "outputId": "6c3df7a3-5a9d-4a6d-f80a-4ad0a06a200d"
      },
      "execution_count": null,
      "outputs": [
        {
          "output_type": "stream",
          "name": "stdout",
          "text": [
            "tensor([[ 73.,  67.,  43.],\n",
            "        [ 91.,  88.,  64.],\n",
            "        [ 87., 134.,  58.],\n",
            "        [102.,  43.,  37.],\n",
            "        [ 69.,  96.,  70.]])\n",
            "tensor([[ 56.,  70.],\n",
            "        [ 81., 101.],\n",
            "        [119., 133.],\n",
            "        [ 22.,  37.],\n",
            "        [103., 119.]])\n"
          ]
        }
      ]
    },
    {
      "cell_type": "code",
      "source": [
        "# Weights and biases\n",
        "w = torch.randn(2, 3, requires_grad=True)\n",
        "b = torch.randn(2, requires_grad=True)\n",
        "print(w)\n",
        "print(b)"
      ],
      "metadata": {
        "colab": {
          "base_uri": "https://localhost:8080/"
        },
        "id": "hlzB5rR8g0ci",
        "outputId": "7e792379-4ea0-4bbd-e7f3-c130d2653b8c"
      },
      "execution_count": null,
      "outputs": [
        {
          "output_type": "stream",
          "name": "stdout",
          "text": [
            "tensor([[-0.8642, -0.5115, -0.9874],\n",
            "        [-1.3473,  1.0618, -1.1670]], requires_grad=True)\n",
            "tensor([-0.0754,  0.7414], requires_grad=True)\n"
          ]
        }
      ]
    },
    {
      "cell_type": "code",
      "source": [
        "def model(x):\n",
        "    return x @ w.t() + b"
      ],
      "metadata": {
        "id": "wynoxPDug9h2"
      },
      "execution_count": null,
      "outputs": []
    },
    {
      "cell_type": "code",
      "source": [
        "preds = model(inputs)\n",
        "print(preds)"
      ],
      "metadata": {
        "colab": {
          "base_uri": "https://localhost:8080/"
        },
        "id": "5gQImVdqhHTg",
        "outputId": "c14e44fa-d990-481c-8c46-4e748888e7d8"
      },
      "execution_count": null,
      "outputs": [
        {
          "output_type": "stream",
          "name": "stdout",
          "text": [
            "tensor([[-139.8885,  -76.6519],\n",
            "        [-186.9204, -103.1120],\n",
            "        [-201.0684,  -41.8778],\n",
            "        [-146.7493, -134.2062],\n",
            "        [-177.9248,  -71.9779]], grad_fn=<AddBackward0>)\n"
          ]
        }
      ]
    },
    {
      "cell_type": "code",
      "source": [
        "targets"
      ],
      "metadata": {
        "colab": {
          "base_uri": "https://localhost:8080/"
        },
        "id": "f6B8bt74hJTI",
        "outputId": "77f30875-7ce6-4b1c-90f7-5235af85f3e3"
      },
      "execution_count": null,
      "outputs": [
        {
          "output_type": "execute_result",
          "data": {
            "text/plain": [
              "tensor([[ 56.,  70.],\n",
              "        [ 81., 101.],\n",
              "        [119., 133.],\n",
              "        [ 22.,  37.],\n",
              "        [103., 119.]])"
            ]
          },
          "metadata": {},
          "execution_count": 7
        }
      ]
    },
    {
      "cell_type": "code",
      "source": [
        "def mse(t1, t2):\n",
        "    diff = t1 - t2\n",
        "    return torch.sum(diff * diff) / diff.numel()\n",
        "\n",
        "\n",
        "# Compute loss\n",
        "loss = mse(preds, targets)\n",
        "print(loss)"
      ],
      "metadata": {
        "colab": {
          "base_uri": "https://localhost:8080/"
        },
        "id": "KIDr9cUDhOmY",
        "outputId": "9ed6097e-55f2-40fa-9458-761645564363"
      },
      "execution_count": null,
      "outputs": [
        {
          "output_type": "stream",
          "name": "stdout",
          "text": [
            "tensor(47952.7422, grad_fn=<DivBackward0>)\n"
          ]
        }
      ]
    },
    {
      "cell_type": "code",
      "source": [
        "loss.backward()\n",
        "\n",
        "\n",
        "# Gradients for weights\n",
        "print(w)\n",
        "print(w.grad)"
      ],
      "metadata": {
        "colab": {
          "base_uri": "https://localhost:8080/"
        },
        "id": "_vFsp86xhf8V",
        "outputId": "20796aea-c84e-4e78-e65e-03cee4256cba"
      },
      "execution_count": null,
      "outputs": [
        {
          "output_type": "stream",
          "name": "stdout",
          "text": [
            "tensor([[-0.8642, -0.5115, -0.9874],\n",
            "        [-1.3473,  1.0618, -1.1670]], requires_grad=True)\n",
            "tensor([[-20624.5645, -22763.1387, -14008.5098],\n",
            "        [-15026.9307, -15383.3809,  -9843.0391]])\n"
          ]
        }
      ]
    },
    {
      "cell_type": "markdown",
      "source": [
        "w\n",
        "w.grad\n",
        "\n"
      ],
      "metadata": {
        "id": "ZX3BRakghoYj"
      }
    },
    {
      "cell_type": "code",
      "source": [
        "with torch.no_grad():\n",
        "    w -= w.grad * 1e-5\n",
        "    b -= b.grad * 1e-5"
      ],
      "metadata": {
        "id": "0XoG8RgYh0FB"
      },
      "execution_count": null,
      "outputs": []
    },
    {
      "cell_type": "code",
      "source": [
        "# Let's verify that the loss is actually lower\n",
        "loss = mse(preds, targets)\n",
        "print(loss)\n",
        "\n",
        "\n",
        "\n"
      ],
      "metadata": {
        "colab": {
          "base_uri": "https://localhost:8080/"
        },
        "id": "MEeJjUbeh3Z9",
        "outputId": "262cef0d-99e0-4919-835d-29df9e01f100"
      },
      "execution_count": null,
      "outputs": [
        {
          "output_type": "stream",
          "name": "stdout",
          "text": [
            "tensor(47952.7422, grad_fn=<DivBackward0>)\n"
          ]
        }
      ]
    },
    {
      "cell_type": "markdown",
      "source": [
        "Before we proceed, we reset the gradients to zero by invoking the .zero_() method. We need to do this because PyTorch accumulates gradients. Otherwise, the next time we invoke .backward on the loss, the new gradient values are added to the existing gradients, which may lead to unexpected results."
      ],
      "metadata": {
        "id": "ouHRtVPDiLGp"
      }
    },
    {
      "cell_type": "code",
      "source": [
        "w.grad.zero_()\n",
        "b.grad.zero_()\n",
        "print(w.grad)\n",
        "print(b.grad)"
      ],
      "metadata": {
        "colab": {
          "base_uri": "https://localhost:8080/"
        },
        "id": "Kqv4HhUsiFOM",
        "outputId": "654d9957-8be9-4ff7-a48a-f05b33ac1033"
      },
      "execution_count": null,
      "outputs": [
        {
          "output_type": "stream",
          "name": "stdout",
          "text": [
            "tensor([[0., 0., 0.],\n",
            "        [0., 0., 0.]])\n",
            "tensor([0., 0.])\n"
          ]
        }
      ]
    },
    {
      "cell_type": "markdown",
      "source": [
        "Train the model using gradient descent\n",
        "As seen above, we reduce the loss and improve our model using the gradient descent optimization algorithm. Thus, we can train the model using the following steps:\n",
        "\n",
        "Generate predictions\n",
        "\n",
        "Calculate the loss\n",
        "\n",
        "Compute gradients w.r.t the weights and biases\n",
        "\n",
        "Adjust the weights by subtracting a small quantity proportional to the gradient\n",
        "\n",
        "Reset the gradients to zero\n",
        "\n",
        "Let's implement the above step by step."
      ],
      "metadata": {
        "id": "akl5B6dmifip"
      }
    },
    {
      "cell_type": "code",
      "source": [
        "preds = model(inputs)\n",
        "print(preds)\n",
        "\n",
        "# Calculate the loss\n",
        "loss = mse(preds, targets)\n",
        "print(loss)\n",
        "\n",
        "# Compute gradients\n",
        "loss.backward()\n",
        "print(w.grad)\n",
        "print(b.grad)\n",
        "\n",
        "\n",
        "# Adjust weights & reset gradients\n",
        "with torch.no_grad():\n",
        "    w -= w.grad * 1e-5\n",
        "    b -= b.grad * 1e-5\n",
        "    w.grad.zero_()\n",
        "    b.grad.zero_()\n",
        "\n",
        "\n",
        "print(w)\n",
        "print(b)"
      ],
      "metadata": {
        "colab": {
          "base_uri": "https://localhost:8080/"
        },
        "id": "Z9SFfMriihlj",
        "outputId": "5dbd22b9-bd8a-4d05-aecc-9450fb105b56"
      },
      "execution_count": null,
      "outputs": [
        {
          "output_type": "stream",
          "name": "stdout",
          "text": [
            "tensor([[-103.5552,  -51.1411],\n",
            "        [-139.1526,  -69.5988],\n",
            "        [-144.4950,   -2.4799],\n",
            "        [-110.7385, -108.6202],\n",
            "        [-132.0328,  -39.9494]], grad_fn=<AddBackward0>)\n",
            "tensor(32481.8594, grad_fn=<DivBackward0>)\n",
            "tensor([[-16872.4141, -18728.5742, -11519.3945],\n",
            "        [-12395.0605, -12560.8506,  -8099.9238]])\n",
            "tensor([-202.1948, -146.3578])\n",
            "tensor([[-0.4892, -0.0966, -0.7321],\n",
            "        [-1.0731,  1.3412, -0.9875]], requires_grad=True)\n",
            "tensor([-0.0709,  0.7447], requires_grad=True)\n"
          ]
        }
      ]
    },
    {
      "cell_type": "code",
      "source": [
        "preds = model(inputs)\n",
        "loss = mse(preds, targets)\n",
        "print(loss)"
      ],
      "metadata": {
        "colab": {
          "base_uri": "https://localhost:8080/"
        },
        "id": "be54E7TbjBYE",
        "outputId": "669221cf-e86d-46ce-8102-7c818adbb54c"
      },
      "execution_count": null,
      "outputs": [
        {
          "output_type": "stream",
          "name": "stdout",
          "text": [
            "tensor(22054.7930, grad_fn=<DivBackward0>)\n"
          ]
        }
      ]
    },
    {
      "cell_type": "code",
      "source": [
        "# Train for 100 epochs\n",
        "for i in range(100):\n",
        "    preds = model(inputs)\n",
        "    loss = mse(preds, targets)\n",
        "    loss.backward()\n",
        "    with torch.no_grad():\n",
        "        w -= w.grad * 1e-5\n",
        "        b -= b.grad * 1e-5\n",
        "        w.grad.zero_()\n",
        "        b.grad.zero_()\n",
        "\n",
        "# Calculate loss\n",
        "preds = model(inputs)\n",
        "loss = mse(preds, targets)\n",
        "print(loss)\n"
      ],
      "metadata": {
        "colab": {
          "base_uri": "https://localhost:8080/"
        },
        "id": "-2Wou92KjOta",
        "outputId": "e37e6ad1-6893-47a1-a6c8-caebfd6c3f83"
      },
      "execution_count": null,
      "outputs": [
        {
          "output_type": "stream",
          "name": "stdout",
          "text": [
            "tensor(246.2386, grad_fn=<DivBackward0>)\n"
          ]
        }
      ]
    },
    {
      "cell_type": "code",
      "source": [
        "preds"
      ],
      "metadata": {
        "colab": {
          "base_uri": "https://localhost:8080/"
        },
        "id": "ORuqqZybjVhZ",
        "outputId": "4233a371-4f66-4d26-e28f-ee3ccaff0978"
      },
      "execution_count": null,
      "outputs": [
        {
          "output_type": "execute_result",
          "data": {
            "text/plain": [
              "tensor([[ 60.5958,  68.4439],\n",
              "        [ 78.5478,  87.1824],\n",
              "        [121.4996, 166.6346],\n",
              "        [ 40.4802,  24.2105],\n",
              "        [ 84.2219, 103.2946]], grad_fn=<AddBackward0>)"
            ]
          },
          "metadata": {},
          "execution_count": 18
        }
      ]
    },
    {
      "cell_type": "markdown",
      "source": [
        "**Linear regression using PyTorch built-ins**"
      ],
      "metadata": {
        "id": "_hn-cBd1jgj3"
      }
    },
    {
      "cell_type": "markdown",
      "source": [],
      "metadata": {
        "id": "-e4ulef2iGYK"
      }
    },
    {
      "cell_type": "code",
      "source": [
        "import torch.nn as nn\n",
        "#As before, we represent the inputs and targets and matrices.\n",
        "\n",
        "# Input (temp, rainfall, humidity)\n",
        "inputs = np.array([[73, 67, 43],\n",
        "                   [91, 88, 64],\n",
        "                   [87, 134, 58],\n",
        "                   [102, 43, 37],\n",
        "                   [69, 96, 70],\n",
        "                   [74, 66, 43],\n",
        "                   [91, 87, 65],\n",
        "                   [88, 134, 59],\n",
        "                   [101, 44, 37],\n",
        "                   [68, 96, 71],\n",
        "                   [73, 66, 44],\n",
        "                   [92, 87, 64],\n",
        "                   [87, 135, 57],\n",
        "                   [103, 43, 36],\n",
        "                   [68, 97, 70]],\n",
        "                  dtype='float32')\n",
        "\n",
        "# Targets (apples, oranges)\n",
        "targets = np.array([[56, 70],\n",
        "                    [81, 101],\n",
        "                    [119, 133],\n",
        "                    [22, 37],\n",
        "                    [103, 119],\n",
        "                    [57, 69],\n",
        "                    [80, 102],\n",
        "                    [118, 132],\n",
        "                    [21, 38],\n",
        "                    [104, 118],\n",
        "                    [57, 69],\n",
        "                    [82, 100],\n",
        "                    [118, 134],\n",
        "                    [20, 38],\n",
        "                    [102, 120]],\n",
        "                   dtype='float32')\n",
        "\n",
        "inputs = torch.from_numpy(inputs)\n",
        "targets = torch.from_numpy(targets)\n",
        "inputs"
      ],
      "metadata": {
        "colab": {
          "base_uri": "https://localhost:8080/"
        },
        "id": "_vacaiuSj6Al",
        "outputId": "77ca1448-7152-453b-bc9f-b5ab681c9302"
      },
      "execution_count": null,
      "outputs": [
        {
          "output_type": "execute_result",
          "data": {
            "text/plain": [
              "tensor([[ 73.,  67.,  43.],\n",
              "        [ 91.,  88.,  64.],\n",
              "        [ 87., 134.,  58.],\n",
              "        [102.,  43.,  37.],\n",
              "        [ 69.,  96.,  70.],\n",
              "        [ 74.,  66.,  43.],\n",
              "        [ 91.,  87.,  65.],\n",
              "        [ 88., 134.,  59.],\n",
              "        [101.,  44.,  37.],\n",
              "        [ 68.,  96.,  71.],\n",
              "        [ 73.,  66.,  44.],\n",
              "        [ 92.,  87.,  64.],\n",
              "        [ 87., 135.,  57.],\n",
              "        [103.,  43.,  36.],\n",
              "        [ 68.,  97.,  70.]])"
            ]
          },
          "metadata": {},
          "execution_count": 20
        }
      ]
    },
    {
      "cell_type": "code",
      "source": [
        "from torch.utils.data import TensorDataset\n",
        "# Define dataset\n",
        "train_ds = TensorDataset(inputs, targets)\n",
        "train_ds[0:3]"
      ],
      "metadata": {
        "colab": {
          "base_uri": "https://localhost:8080/"
        },
        "id": "MZfZsWE3kBGH",
        "outputId": "de9173e7-b5ab-4983-8ed9-8d7dd721f26c"
      },
      "execution_count": null,
      "outputs": [
        {
          "output_type": "execute_result",
          "data": {
            "text/plain": [
              "(tensor([[ 73.,  67.,  43.],\n",
              "         [ 91.,  88.,  64.],\n",
              "         [ 87., 134.,  58.]]),\n",
              " tensor([[ 56.,  70.],\n",
              "         [ 81., 101.],\n",
              "         [119., 133.]]))"
            ]
          },
          "metadata": {},
          "execution_count": 21
        }
      ]
    },
    {
      "cell_type": "code",
      "source": [
        "from torch.utils.data import DataLoader\n",
        "# Define data loader\n",
        "batch_size = 5\n",
        "train_dl = DataLoader(train_ds, batch_size, shuffle=True)\n",
        "#We can use the data loader in a for loop. Let's look at an example.\n",
        "\n",
        "for xb, yb in train_dl:\n",
        "    print(xb)\n",
        "    print(yb)\n",
        "    break"
      ],
      "metadata": {
        "colab": {
          "base_uri": "https://localhost:8080/"
        },
        "id": "Ij5ZeLQEkG3w",
        "outputId": "0ffbef5b-89f2-4a6e-8cad-a109d8f3b8e9"
      },
      "execution_count": null,
      "outputs": [
        {
          "output_type": "stream",
          "name": "stdout",
          "text": [
            "tensor([[ 87., 134.,  58.],\n",
            "        [ 73.,  67.,  43.],\n",
            "        [ 88., 134.,  59.],\n",
            "        [ 87., 135.,  57.],\n",
            "        [102.,  43.,  37.]])\n",
            "tensor([[119., 133.],\n",
            "        [ 56.,  70.],\n",
            "        [118., 132.],\n",
            "        [118., 134.],\n",
            "        [ 22.,  37.]])\n"
          ]
        }
      ]
    },
    {
      "cell_type": "code",
      "source": [
        "model = nn.Linear(3, 2)\n",
        "print(model.weight)\n",
        "print(model.bias)\n"
      ],
      "metadata": {
        "colab": {
          "base_uri": "https://localhost:8080/"
        },
        "id": "LWs4b5SkkRxd",
        "outputId": "78695cf9-071e-4b77-a6cc-fd9c71111c86"
      },
      "execution_count": null,
      "outputs": [
        {
          "output_type": "stream",
          "name": "stdout",
          "text": [
            "Parameter containing:\n",
            "tensor([[ 0.1483, -0.0709,  0.1577],\n",
            "        [ 0.2443, -0.0641, -0.1299]], requires_grad=True)\n",
            "Parameter containing:\n",
            "tensor([0.4198, 0.4135], requires_grad=True)\n"
          ]
        }
      ]
    },
    {
      "cell_type": "code",
      "source": [
        "list(model.parameters())"
      ],
      "metadata": {
        "colab": {
          "base_uri": "https://localhost:8080/"
        },
        "id": "3D4LxG_YkXSZ",
        "outputId": "14417eaf-0f82-46f7-d7ee-f231fb19577b"
      },
      "execution_count": null,
      "outputs": [
        {
          "output_type": "execute_result",
          "data": {
            "text/plain": [
              "[Parameter containing:\n",
              " tensor([[ 0.1483, -0.0709,  0.1577],\n",
              "         [ 0.2443, -0.0641, -0.1299]], requires_grad=True),\n",
              " Parameter containing:\n",
              " tensor([0.4198, 0.4135], requires_grad=True)]"
            ]
          },
          "metadata": {},
          "execution_count": 24
        }
      ]
    },
    {
      "cell_type": "code",
      "source": [
        "preds = model(inputs)\n",
        "preds"
      ],
      "metadata": {
        "colab": {
          "base_uri": "https://localhost:8080/"
        },
        "id": "jeoi8_pVkdzS",
        "outputId": "c7f0c992-bdb5-468a-cc7c-8ca88dd02e31"
      },
      "execution_count": null,
      "outputs": [
        {
          "output_type": "execute_result",
          "data": {
            "text/plain": [
              "tensor([[13.2706,  8.3666],\n",
              "        [17.7608,  8.6899],\n",
              "        [12.9584,  5.5448],\n",
              "        [18.3274, 17.7678],\n",
              "        [14.8770,  2.0238],\n",
              "        [13.4899,  8.6749],\n",
              "        [17.9894,  8.6241],\n",
              "        [13.2643,  5.6591],\n",
              "        [18.1082, 17.4594],\n",
              "        [14.8864,  1.6496],\n",
              "        [13.4992,  8.3007],\n",
              "        [17.9800,  8.9983],\n",
              "        [12.7298,  5.6106],\n",
              "        [18.3181, 18.1420],\n",
              "        [14.6578,  1.7155]], grad_fn=<AddmmBackward0>)"
            ]
          },
          "metadata": {},
          "execution_count": 25
        }
      ]
    },
    {
      "cell_type": "code",
      "source": [
        "# Import nn.functional\n",
        "import torch.nn.functional as F\n",
        "#The nn.functional package contains many useful loss functions and several other utilities.\n",
        "\n",
        "# Define loss function\n",
        "loss_fn = F.mse_loss\n",
        "#Let's compute the loss for the current predictions of our model.\n",
        "\n",
        "loss = loss_fn(model(inputs), targets)\n",
        "print(loss)\n"
      ],
      "metadata": {
        "colab": {
          "base_uri": "https://localhost:8080/"
        },
        "id": "VdLRgK4ykiha",
        "outputId": "e4ec8ea9-498b-4284-f4de-d378277fa310"
      },
      "execution_count": null,
      "outputs": [
        {
          "output_type": "stream",
          "name": "stdout",
          "text": [
            "tensor(6731.4468, grad_fn=<MseLossBackward0>)\n"
          ]
        }
      ]
    },
    {
      "cell_type": "code",
      "source": [
        "opt = torch.optim.SGD(model.parameters(), lr=1e-5)"
      ],
      "metadata": {
        "id": "EbuRj6P5ks9g"
      },
      "execution_count": null,
      "outputs": []
    },
    {
      "cell_type": "code",
      "source": [
        "# Utility function to train the model\n",
        "def fit(num_epochs, model, loss_fn, opt, train_dl):\n",
        "\n",
        "    # Repeat for given number of epochs\n",
        "    for epoch in range(num_epochs):\n",
        "\n",
        "        # Train with batches of data\n",
        "        for xb,yb in train_dl:\n",
        "\n",
        "            # 1. Generate predictions\n",
        "            pred = model(xb)\n",
        "\n",
        "            # 2. Calculate loss\n",
        "            loss = loss_fn(pred, yb)\n",
        "\n",
        "            # 3. Compute gradients\n",
        "            loss.backward()\n",
        "\n",
        "            # 4. Update parameters using gradients\n",
        "            opt.step()\n",
        "\n",
        "            # 5. Reset the gradients to zero\n",
        "            opt.zero_grad()\n",
        "\n",
        "        # Print the progress\n",
        "        if (epoch+1) % 10 == 0:\n",
        "            print('Epoch [{}/{}], Loss: {:.4f}'.format(epoch+1, num_epochs, loss.item()))# Utility function to train the model\n"
      ],
      "metadata": {
        "id": "YsiTaw8VlASB"
      },
      "execution_count": null,
      "outputs": []
    },
    {
      "cell_type": "markdown",
      "source": [
        "Some things to note above:\n",
        "\n",
        "We use the data loader defined earlier to get batches of data for every iteration.\n",
        "\n",
        "Instead of updating parameters (weights and biases) manually, we use opt.step to perform the update and opt.zero_grad to reset the gradients to zero.\n",
        "\n",
        "We've also added a log statement that prints the loss from the last batch of data for every 10th epoch to track training progress. loss.item returns the actual value stored in the loss tensor.\n",
        "\n",
        "Let's train the model for 100 epochs."
      ],
      "metadata": {
        "id": "nATXh-1olSxf"
      }
    },
    {
      "cell_type": "code",
      "source": [
        "fit(100, model, loss_fn, opt, train_dl)\n",
        "\"\"\"Epoch [10/100], Loss: 818.6476\n",
        "Epoch [20/100], Loss: 335.3347\n",
        "Epoch [30/100], Loss: 190.3544\n",
        "Epoch [40/100], Loss: 131.6701\n",
        "Epoch [50/100], Loss: 77.0783\n",
        "Epoch [60/100], Loss: 151.5671\n",
        "Epoch [70/100], Loss: 151.0817\n",
        "Epoch [80/100], Loss: 67.6262\n",
        "Epoch [90/100], Loss: 53.6205\n",
        "Epoch [100/100], Loss: 33.4517\n",
        "Let's generate predictions using our model and verify that they're close to our targets.\"\"\"\n",
        "\n",
        "# Generate predictions\n",
        "preds = model(inputs)\n",
        "preds"
      ],
      "metadata": {
        "colab": {
          "base_uri": "https://localhost:8080/"
        },
        "id": "pojua_d2lUt9",
        "outputId": "09c724ab-86f5-4587-af08-5c185c7c3a07"
      },
      "execution_count": null,
      "outputs": [
        {
          "output_type": "stream",
          "name": "stdout",
          "text": [
            "Epoch [10/100], Loss: 624.6790\n",
            "Epoch [20/100], Loss: 257.4446\n",
            "Epoch [30/100], Loss: 204.8546\n",
            "Epoch [40/100], Loss: 166.6882\n",
            "Epoch [50/100], Loss: 130.0726\n",
            "Epoch [60/100], Loss: 149.0137\n",
            "Epoch [70/100], Loss: 91.4227\n",
            "Epoch [80/100], Loss: 68.9246\n",
            "Epoch [90/100], Loss: 58.1618\n",
            "Epoch [100/100], Loss: 46.5204\n"
          ]
        },
        {
          "output_type": "execute_result",
          "data": {
            "text/plain": [
              "tensor([[ 58.3655,  71.9974],\n",
              "        [ 81.4972,  97.6476],\n",
              "        [117.1161, 136.4663],\n",
              "        [ 28.5005,  46.5252],\n",
              "        [ 96.5302, 108.4588],\n",
              "        [ 57.2978,  71.0458],\n",
              "        [ 81.1779,  97.1452],\n",
              "        [117.3643, 136.7899],\n",
              "        [ 29.5682,  47.4769],\n",
              "        [ 97.2787, 108.9081],\n",
              "        [ 58.0463,  71.4950],\n",
              "        [ 80.4295,  96.6959],\n",
              "        [117.4353, 136.9687],\n",
              "        [ 27.7520,  46.0759],\n",
              "        [ 97.5979, 109.4104]], grad_fn=<AddmmBackward0>)"
            ]
          },
          "metadata": {},
          "execution_count": 30
        }
      ]
    },
    {
      "cell_type": "code",
      "source": [
        "targets\n",
        "\"\"\"tensor([[ 56.,  70.],\n",
        "        [ 81., 101.],\n",
        "        [119., 133.],\n",
        "        [ 22.,  37.],\n",
        "        [103., 119.],\n",
        "        [ 57.,  69.],\n",
        "        [ 80., 102.],\n",
        "        [118., 132.],\n",
        "        [ 21.,  38.],\n",
        "        [104., 118.],\n",
        "        [ 57.,  69.],\n",
        "        [ 82., 100.],\n",
        "        [118., 134.],\n",
        "        [ 20.,  38.],\n",
        "        [102., 120.]])\n",
        "Indeed, the predictions are quite close to our targets. We have a trained a reasonably good model to predict crop yields for apples and oranges by looking at the average temperature, rainfall, and humidity in a region. We can use it to make predictions of crop yields for new regions by passing a batch containing a single row of input.\"\"\"\n",
        "\n",
        "model(torch.tensor([[75, 63, 44.]]))\n",
        "#tensor([[55.3323, 67.8895]], grad_fn=<AddmmBackward>)"
      ],
      "metadata": {
        "colab": {
          "base_uri": "https://localhost:8080/"
        },
        "id": "NNTuK_y0lmyn",
        "outputId": "cf620c62-f29a-4652-e39e-25db0723f315"
      },
      "execution_count": null,
      "outputs": [
        {
          "output_type": "execute_result",
          "data": {
            "text/plain": [
              "tensor([[55.0933, 68.7029]], grad_fn=<AddmmBackward0>)"
            ]
          },
          "metadata": {},
          "execution_count": 31
        }
      ]
    }
  ]
}